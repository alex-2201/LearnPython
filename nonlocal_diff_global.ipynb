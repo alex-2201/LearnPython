{
  "nbformat": 4,
  "nbformat_minor": 0,
  "metadata": {
    "colab": {
      "name": "nonlocal diff global.ipynb",
      "provenance": [],
      "authorship_tag": "ABX9TyOcOG3/rO+Z9LZJN2H4YxkM",
      "include_colab_link": true
    },
    "kernelspec": {
      "name": "python3",
      "display_name": "Python 3"
    },
    "accelerator": "GPU"
  },
  "cells": [
    {
      "cell_type": "markdown",
      "metadata": {
        "id": "view-in-github",
        "colab_type": "text"
      },
      "source": [
        "<a href=\"https://colab.research.google.com/github/sonnguyen2201/LearnPython/blob/master/nonlocal_diff_global.ipynb\" target=\"_parent\"><img src=\"https://colab.research.google.com/assets/colab-badge.svg\" alt=\"Open In Colab\"/></a>"
      ]
    },
    {
      "cell_type": "markdown",
      "metadata": {
        "id": "oDU2OULIX8_X",
        "colab_type": "text"
      },
      "source": [
        "# Global"
      ]
    },
    {
      "cell_type": "code",
      "metadata": {
        "id": "Cj_eZzMkXLgf",
        "colab_type": "code",
        "colab": {
          "base_uri": "https://localhost:8080/",
          "height": 34
        },
        "outputId": "9c2405d0-3254-43ad-d551-21af5fc86a34"
      },
      "source": [
        "def func():\n",
        "  global x\n",
        "  x = 10\n",
        "\n",
        "func()\n",
        "print(x)"
      ],
      "execution_count": 2,
      "outputs": [
        {
          "output_type": "stream",
          "text": [
            "10\n"
          ],
          "name": "stdout"
        }
      ]
    },
    {
      "cell_type": "markdown",
      "metadata": {
        "id": "Hk1HpteeYEh0",
        "colab_type": "text"
      },
      "source": [
        "# Non-local"
      ]
    },
    {
      "cell_type": "code",
      "metadata": {
        "id": "qsdIG-rIYFNG",
        "colab_type": "code",
        "colab": {
          "base_uri": "https://localhost:8080/",
          "height": 129
        },
        "outputId": "af1c0de5-fd78-4bbf-d17e-9d5668006212"
      },
      "source": [
        "def func2():\n",
        "  def func3():\n",
        "    nonlocal y\n",
        "    y = 10\n",
        "  print(y)\n",
        "\n",
        "func2()"
      ],
      "execution_count": 3,
      "outputs": [
        {
          "output_type": "error",
          "ename": "SyntaxError",
          "evalue": "ignored",
          "traceback": [
            "\u001b[0;36m  File \u001b[0;32m\"<ipython-input-3-8303dc5a1fe3>\"\u001b[0;36m, line \u001b[0;32m3\u001b[0m\n\u001b[0;31m    nonlocal y\u001b[0m\n\u001b[0m    ^\u001b[0m\n\u001b[0;31mSyntaxError\u001b[0m\u001b[0;31m:\u001b[0m no binding for nonlocal 'y' found\n"
          ]
        }
      ]
    },
    {
      "cell_type": "code",
      "metadata": {
        "id": "9Mxh_yo9YNs7",
        "colab_type": "code",
        "colab": {}
      },
      "source": [
        ""
      ],
      "execution_count": 0,
      "outputs": []
    }
  ]
}