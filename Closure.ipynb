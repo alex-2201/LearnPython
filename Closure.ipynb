{
  "nbformat": 4,
  "nbformat_minor": 0,
  "metadata": {
    "colab": {
      "name": "Closure.ipynb",
      "provenance": [],
      "authorship_tag": "ABX9TyNwXZ7QISRfErQmymzzSH9r",
      "include_colab_link": true
    },
    "kernelspec": {
      "name": "python3",
      "display_name": "Python 3"
    },
    "accelerator": "GPU"
  },
  "cells": [
    {
      "cell_type": "markdown",
      "metadata": {
        "id": "view-in-github",
        "colab_type": "text"
      },
      "source": [
        "<a href=\"https://colab.research.google.com/github/sonnguyen2201/LearnPython/blob/master/Closure.ipynb\" target=\"_parent\"><img src=\"https://colab.research.google.com/assets/colab-badge.svg\" alt=\"Open In Colab\"/></a>"
      ]
    },
    {
      "cell_type": "markdown",
      "metadata": {
        "id": "m5UVQ1MhR6Tj",
        "colab_type": "text"
      },
      "source": [
        "\n",
        "\n",
        "In the section **“Function Gotchas” on page 656**, we’ll also see that there is a similar issue with using\n",
        "mutable objects like lists and dictionaries for default arguments (e.g., def `f(a=[]) )`—because defaults are\n",
        "implemented as single objects attached to functions, mutable defaults retain state from call to call, rather\n",
        "then being initialized anew on each call. Depending on whom you ask, this is either considered a feature\n",
        "that supports another way to implement state retention, or a strange corner of the language; more on this\n",
        "at the end of **Chapter 21**.\n",
        "\n"
      ]
    },
    {
      "cell_type": "code",
      "metadata": {
        "id": "Q40VE3TgQ5UC",
        "colab_type": "code",
        "colab": {
          "base_uri": "https://localhost:8080/",
          "height": 34
        },
        "outputId": "fa319162-e66d-4ffa-b27d-589a44fae3b2"
      },
      "source": [
        "def func(a=[]):\n",
        "  a.append(1)\n",
        "  return a\n",
        "\n",
        "x = func()\n",
        "y = func()\n",
        "x, y"
      ],
      "execution_count": 1,
      "outputs": [
        {
          "output_type": "execute_result",
          "data": {
            "text/plain": [
              "([1, 1], [1, 1])"
            ]
          },
          "metadata": {
            "tags": []
          },
          "execution_count": 1
        }
      ]
    },
    {
      "cell_type": "markdown",
      "metadata": {
        "id": "MuRTlgpzSI0m",
        "colab_type": "text"
      },
      "source": [
        "## Loop variables may require defaults, not scopes"
      ]
    },
    {
      "cell_type": "code",
      "metadata": {
        "id": "9GG9SB9-SVHx",
        "colab_type": "code",
        "colab": {
          "base_uri": "https://localhost:8080/",
          "height": 170
        },
        "outputId": "c5ec0322-5b60-4d72-93b6-e9bcb894452f"
      },
      "source": [
        "def makeActions():\n",
        "  acts = []\n",
        "\n",
        "  for i in range(5):\n",
        "    def func(x):\n",
        "      return i ** x\n",
        "    acts.append(func)\n",
        "    \n",
        "  return acts\n",
        "\n",
        "acts = makeActions()\n",
        "acts, acts[0](2), acts[1](2), acts[2](2), acts[3](2)"
      ],
      "execution_count": 2,
      "outputs": [
        {
          "output_type": "execute_result",
          "data": {
            "text/plain": [
              "([<function __main__.makeActions.<locals>.func>,\n",
              "  <function __main__.makeActions.<locals>.func>,\n",
              "  <function __main__.makeActions.<locals>.func>,\n",
              "  <function __main__.makeActions.<locals>.func>,\n",
              "  <function __main__.makeActions.<locals>.func>],\n",
              " 16,\n",
              " 16,\n",
              " 16,\n",
              " 16)"
            ]
          },
          "metadata": {
            "tags": []
          },
          "execution_count": 2
        }
      ]
    },
    {
      "cell_type": "code",
      "metadata": {
        "id": "6GVR5tUWTlHJ",
        "colab_type": "code",
        "colab": {
          "base_uri": "https://localhost:8080/",
          "height": 34
        },
        "outputId": "c0bdfb5a-404a-4395-f5ba-bb09f16686d0"
      },
      "source": [
        "acts[0](2), acts[1](2), acts[2](2), acts[3](2)"
      ],
      "execution_count": 3,
      "outputs": [
        {
          "output_type": "execute_result",
          "data": {
            "text/plain": [
              "(16, 16, 16, 16)"
            ]
          },
          "metadata": {
            "tags": []
          },
          "execution_count": 3
        }
      ]
    },
    {
      "cell_type": "code",
      "metadata": {
        "id": "EhPwIcGeULMo",
        "colab_type": "code",
        "colab": {
          "base_uri": "https://localhost:8080/",
          "height": 170
        },
        "outputId": "37a1065d-7f11-4e57-a6e4-0fb01486afc0"
      },
      "source": [
        "def makeActions2():\n",
        "  act2s = []\n",
        "  for i in range(5):\n",
        "    act2s.append(lambda x: i ** x)\n",
        "  return act2s\n",
        "\n",
        "act2s = makeActions2()\n",
        "\n",
        "act2s, act2s[0](3), act2s[1](3), act2s[2](3), act2s[3](3)"
      ],
      "execution_count": 4,
      "outputs": [
        {
          "output_type": "execute_result",
          "data": {
            "text/plain": [
              "([<function __main__.makeActions2.<locals>.<lambda>>,\n",
              "  <function __main__.makeActions2.<locals>.<lambda>>,\n",
              "  <function __main__.makeActions2.<locals>.<lambda>>,\n",
              "  <function __main__.makeActions2.<locals>.<lambda>>,\n",
              "  <function __main__.makeActions2.<locals>.<lambda>>],\n",
              " 64,\n",
              " 64,\n",
              " 64,\n",
              " 64)"
            ]
          },
          "metadata": {
            "tags": []
          },
          "execution_count": 4
        }
      ]
    },
    {
      "cell_type": "code",
      "metadata": {
        "id": "OPrYQsXZWEZc",
        "colab_type": "code",
        "colab": {}
      },
      "source": [
        ""
      ],
      "execution_count": 0,
      "outputs": []
    }
  ]
}