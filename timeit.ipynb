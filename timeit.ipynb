{
  "nbformat": 4,
  "nbformat_minor": 0,
  "metadata": {
    "colab": {
      "name": "timeit",
      "provenance": [],
      "authorship_tag": "ABX9TyMIR4+tr8OrIm4HlYvXt7Uw",
      "include_colab_link": true
    },
    "kernelspec": {
      "name": "python3",
      "display_name": "Python 3"
    },
    "accelerator": "GPU"
  },
  "cells": [
    {
      "cell_type": "markdown",
      "metadata": {
        "id": "view-in-github",
        "colab_type": "text"
      },
      "source": [
        "<a href=\"https://colab.research.google.com/github/sonnguyen2201/LearnPython/blob/master/timeit.ipynb\" target=\"_parent\"><img src=\"https://colab.research.google.com/assets/colab-badge.svg\" alt=\"Open In Colab\"/></a>"
      ]
    },
    {
      "cell_type": "code",
      "metadata": {
        "id": "hxADR1RdaUhZ",
        "colab_type": "code",
        "colab": {}
      },
      "source": [
        "import time, sys\n",
        "timer = time.time\n",
        "\n",
        "def total(func, *pargs, **kargs):\n",
        "  _reps = kargs.pop('_reps', 1000)\n",
        "  repslists = list(range(_reps))\n",
        "  start = timer()\n",
        "  for i in repslist:\n",
        "    ret = func(*pargs, **kargs)\n",
        "  elapsed = timer() - start\n",
        "  return (elapsed, ret)\n",
        "\n",
        "def bestof(func, *pargs, **kargs):\n",
        "  _reps = kargs.pop('_reps', 5)\n",
        "  best = 2 ** 32\n",
        "  for i in ragen(_reps):\n",
        "    start = timer()\n",
        "    ret = func(*pargs, **kargs)\n",
        "    elapsed = timer() - start\n",
        "    if elapsed < best:\n",
        "      best = elapsed\n",
        "  return (best, ret)\n",
        "\n",
        "def bestoftotal(func, *pargs, **kargs):\n",
        "  _reps1 = kargs.pop('_reps1', 5)\n",
        "  return min(total(func, *pargs, **kargs) for i in range(_reps1))"
      ],
      "execution_count": 0,
      "outputs": []
    },
    {
      "cell_type": "code",
      "metadata": {
        "id": "fYlpoUkJbIwH",
        "colab_type": "code",
        "colab": {}
      },
      "source": [
        "x = {'name': 'Son', 'age': 25, 'school': 'Hust'}\n",
        "s = x.pop('name', 100)"
      ],
      "execution_count": 0,
      "outputs": []
    },
    {
      "cell_type": "code",
      "metadata": {
        "id": "Ryrupjxmv2aq",
        "colab_type": "code",
        "colab": {
          "base_uri": "https://localhost:8080/",
          "height": 34
        },
        "outputId": "ee0d7702-d108-49ac-c67e-52638d5caa8b"
      },
      "source": [
        "s"
      ],
      "execution_count": 9,
      "outputs": [
        {
          "output_type": "execute_result",
          "data": {
            "text/plain": [
              "'Son'"
            ]
          },
          "metadata": {
            "tags": []
          },
          "execution_count": 9
        }
      ]
    },
    {
      "cell_type": "code",
      "metadata": {
        "id": "V1_UtaO6wF8H",
        "colab_type": "code",
        "colab": {}
      },
      "source": [
        ""
      ],
      "execution_count": 0,
      "outputs": []
    }
  ]
}